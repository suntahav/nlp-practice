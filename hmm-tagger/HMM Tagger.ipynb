{
 "cells": [
  {
   "cell_type": "markdown",
   "metadata": {},
   "source": [
    "##### Pomegranate Api Practice"
   ]
  },
  {
   "cell_type": "code",
   "execution_count": 1,
   "metadata": {},
   "outputs": [],
   "source": [
    "%load_ext autoreload\n",
    "%aimport helpers\n",
    "%autoreload 1"
   ]
  },
  {
   "cell_type": "code",
   "execution_count": 2,
   "metadata": {},
   "outputs": [],
   "source": [
    "import pomegranate\n",
    "pomegranate.utils.enable_gpu()"
   ]
  },
  {
   "cell_type": "code",
   "execution_count": 3,
   "metadata": {},
   "outputs": [],
   "source": [
    "import matplotlib.pyplot as plt\n",
    "import numpy as np\n",
    "\n",
    "from helpers import show_model\n",
    "from pomegranate import State, HiddenMarkovModel, DiscreteDistribution"
   ]
  },
  {
   "cell_type": "code",
   "execution_count": 4,
   "metadata": {},
   "outputs": [],
   "source": [
    "model = HiddenMarkovModel(name=\"First HMM\")\n",
    "\n",
    "sunny_emmissions = DiscreteDistribution({\"yes\": 0.1, \"no\": 0.9})\n",
    "sunny_state = State(sunny_emmissions, name=\"Sunny\")\n",
    "\n",
    "rainy_emmisions = DiscreteDistribution({\"yes\": 0.8, \"no\": 0.2})\n",
    "rainy_state = State(rainy_emmisions, name=\"Rainy\")\n",
    "\n",
    "model.add_states(sunny_state, rainy_state)"
   ]
  },
  {
   "cell_type": "code",
   "execution_count": 5,
   "metadata": {},
   "outputs": [
    {
     "name": "stdout",
     "output_type": "stream",
     "text": [
      "OK\n"
     ]
    }
   ],
   "source": [
    "assert rainy_emmisions.probability(\"yes\") == 0.8\n",
    "print(\"OK\")"
   ]
  },
  {
   "cell_type": "code",
   "execution_count": 6,
   "metadata": {},
   "outputs": [
    {
     "name": "stdout",
     "output_type": "stream",
     "text": [
      "OK\n"
     ]
    }
   ],
   "source": [
    "# Adding transitions\n",
    "\n",
    "# Initially all will be 0.5\n",
    "model.add_transition(model.start, sunny_state, 0.5)\n",
    "model.add_transition(model.start, rainy_state, 0.5)\n",
    "\n",
    "# transition from sunny state\n",
    "model.add_transition(sunny_state, sunny_state, 0.8)\n",
    "model.add_transition(sunny_state, rainy_state, 0.2)\n",
    "\n",
    "# transition from rainy state\n",
    "model.add_transition(rainy_state, sunny_state, 0.4)\n",
    "model.add_transition(rainy_state, rainy_state, 0.6)\n",
    "\n",
    "model.bake()\n",
    "\n",
    "assert model.edge_count() == 6\n",
    "assert model.node_count() == 4\n",
    "print(\"OK\")"
   ]
  },
  {
   "cell_type": "code",
   "execution_count": 7,
   "metadata": {},
   "outputs": [
    {
     "data": {
      "image/png": "[encoded data removed]",
      "text/plain": [
       "<Figure size 360x360 with 1 Axes>"
      ]
     },
     "metadata": {
      "needs_background": "light"
     },
     "output_type": "display_data"
    }
   ],
   "source": [
    "show_model(model, figsize=(5, 5), filename=\"sampleHMM.png\", overwrite=True, show_ends=False)"
   ]
  },
  {
   "cell_type": "code",
   "execution_count": 8,
   "metadata": {},
   "outputs": [
    {
     "name": "stdout",
     "output_type": "stream",
     "text": [
      "The state transition matrix, P(Xt|Xt-1):\n",
      "\n",
      "[[0.  0.5 0.5 0. ]\n",
      " [0.  0.8 0.2 0. ]\n",
      " [0.  0.4 0.6 0. ]\n",
      " [0.  0.  0.  0. ]]\n",
      "\n",
      "The transition probability from Rainy to Sunny is 40%\n"
     ]
    }
   ],
   "source": [
    "column_order = [\"First HMM-start\", \"Sunny\", \"Rainy\", \"First HMM-end\"]\n",
    "column_names = [s.name for s in model.states]\n",
    "order_index = [column_names.index(c) for c in column_order]\n",
    "\n",
    "transitions = model.dense_transition_matrix()[:, order_index][order_index, :]\n",
    "print(\"The state transition matrix, P(Xt|Xt-1):\\n\")\n",
    "print(transitions)\n",
    "print(\"\\nThe transition probability from Rainy to Sunny is {:.0f}%\".format(100 * transitions[2, 1]))"
   ]
  },
  {
   "cell_type": "markdown",
   "metadata": {},
   "source": [
    "##### Calculating likelihood probabilites of given sequences"
   ]
  },
  {
   "cell_type": "code",
   "execution_count": 9,
   "metadata": {},
   "outputs": [
    {
     "data": {
      "text/plain": [
       "array([[0.    , 0.    , 1.    , 0.    ],\n",
       "       [0.4   , 0.05  , 0.    , 0.    ],\n",
       "       [0.05  , 0.18  , 0.    , 0.    ],\n",
       "       [0.0528, 0.0164, 0.    , 0.    ]])"
      ]
     },
     "execution_count": 9,
     "metadata": {},
     "output_type": "execute_result"
    }
   ],
   "source": [
    "observations = [\"yes\", \"no\", \"yes\"]\n",
    "\n",
    "assert len(observations) > 0\n",
    "# forward method returns log likelihood so using np.exp for getting likelihood probability\n",
    "\n",
    "forward_matrix = np.exp(model.forward(observations))\n",
    "forward_matrix"
   ]
  },
  {
   "cell_type": "code",
   "execution_count": 10,
   "metadata": {},
   "outputs": [
    {
     "data": {
      "text/plain": [
       "0.06920000000000004"
      ]
     },
     "execution_count": 10,
     "metadata": {},
     "output_type": "execute_result"
    }
   ],
   "source": [
    "probability_percentage = np.exp(model.log_probability(observations))\n",
    "probability_percentage"
   ]
  },
  {
   "cell_type": "code",
   "execution_count": 11,
   "metadata": {},
   "outputs": [
    {
     "name": "stdout",
     "output_type": "stream",
     "text": [
      "            Rainy      Sunny      First HMM-start      First HMM-end   \n",
      " <start>      0%         0%             100%                 0%        \n",
      "   yes       40%         5%              0%                  0%        \n",
      "    no        5%        18%              0%                  0%        \n",
      "   yes        5%         2%              0%                  0%        \n",
      "\n",
      "The likelihood over all possible paths of this model producing the sequence ['yes', 'no', 'yes'] is 6.92%\n",
      "\n",
      "\n"
     ]
    }
   ],
   "source": [
    "# Display the forward probabilities\n",
    "print(\"         \" + \"\".join(s.name.center(len(s.name)+6) for s in model.states))\n",
    "for i in range(len(observations) + 1):\n",
    "    print(\" <start> \" if i==0 else observations[i - 1].center(9), end=\"\")\n",
    "    print(\"\".join(\"{:.0f}%\".format(100 * forward_matrix[i, j]).center(len(s.name) + 6)\n",
    "                  for j, s in enumerate(model.states)))\n",
    "\n",
    "print(\"\\nThe likelihood over all possible paths \" + \\\n",
    "      \"of this model producing the sequence {} is {:.2f}%\\n\\n\"\n",
    "      .format(observations, 100 * probability_percentage))"
   ]
  },
  {
   "cell_type": "code",
   "execution_count": 18,
   "metadata": {},
   "outputs": [
    {
     "name": "stdout",
     "output_type": "stream",
     "text": [
      "0.023 ['First HMM-start', 'Rainy', 'Sunny', 'Rainy']\n"
     ]
    }
   ],
   "source": [
    "#Veterbi Algorithm for most likely hidden state sequence and likelihood of veterbi path\n",
    "\n",
    "veterbi_logprob, veterbipath = model.viterbi(observations)\n",
    "print(round(np.exp(veterbi_logprob), 3), [s[1].name for s in veterbipath])"
   ]
  },
  {
   "cell_type": "code",
   "execution_count": 20,
   "metadata": {},
   "outputs": [
    {
     "name": "stdout",
     "output_type": "stream",
     "text": [
      "The likelihood of observing ['yes', 'no', 'yes'] if the weather sequence is...\n",
      "\t('Sunny', 'Sunny', 'Sunny') is 0.29% \n",
      "\t('Sunny', 'Sunny', 'Rainy') is 0.58% \n",
      "\t('Sunny', 'Rainy', 'Sunny') is 0.01% \n",
      "\t('Sunny', 'Rainy', 'Rainy') is 0.10% \n",
      "\t('Rainy', 'Sunny', 'Sunny') is 1.15% \n",
      "\t('Rainy', 'Sunny', 'Rainy') is 2.30%  <-- Viterbi path\n",
      "\t('Rainy', 'Rainy', 'Sunny') is 0.19% \n",
      "\t('Rainy', 'Rainy', 'Rainy') is 2.30%  <-- Viterbi path\n",
      "\n",
      "The total likelihood of observing ['yes', 'no', 'yes'] over all possible paths is 6.92%\n"
     ]
    }
   ],
   "source": [
    "\n",
    "from itertools import product\n",
    "\n",
    "observations = ['yes', 'no', 'yes']\n",
    "#Transition Probability\n",
    "p = {'Sunny': {'Sunny': np.log(.8), 'Rainy': np.log(.2)}, 'Rainy': {'Sunny': np.log(.4), 'Rainy': np.log(.6)}}\n",
    "#emmission Probability\n",
    "e = {'Sunny': {'yes': np.log(.1), 'no': np.log(.9)}, 'Rainy':{'yes':np.log(.8), 'no':np.log(.2)}}\n",
    "o = observations\n",
    "k = []\n",
    "vprob = np.exp(model.viterbi(o)[0])\n",
    "print(\"The likelihood of observing {} if the weather sequence is...\".format(o))\n",
    "for s in product(*[['Sunny', 'Rainy']]*3):\n",
    "    k.append(np.exp(np.log(.5)+e[s[0]][o[0]] + p[s[0]][s[1]] + e[s[1]][o[1]] + p[s[1]][s[2]] + e[s[2]][o[2]]))\n",
    "    print(\"\\t{} is {:.2f}% {}\".format(s, 100 * k[-1], \" <-- Viterbi path\" if k[-1] == vprob else \"\"))\n",
    "print(\"\\nThe total likelihood of observing {} over all possible paths is {:.2f}%\".format(o, 100*sum(k)))"
   ]
  },
  {
   "cell_type": "code",
   "execution_count": 22,
   "metadata": {},
   "outputs": [
    {
     "name": "stdout",
     "output_type": "stream",
     "text": [
      "('Sunny', 'Sunny', 'Sunny')\n",
      "('Sunny', 'Sunny', 'Rainy')\n",
      "('Sunny', 'Rainy', 'Sunny')\n",
      "('Sunny', 'Rainy', 'Rainy')\n",
      "('Rainy', 'Sunny', 'Sunny')\n",
      "('Rainy', 'Sunny', 'Rainy')\n",
      "('Rainy', 'Rainy', 'Sunny')\n",
      "('Rainy', 'Rainy', 'Rainy')\n"
     ]
    }
   ],
   "source": [
    " for s in product(*[['Sunny', 'Rainy']]*3):\n",
    "        print(s)"
   ]
  },
  {
   "cell_type": "code",
   "execution_count": 23,
   "metadata": {},
   "outputs": [
    {
     "data": {
      "text/plain": [
       "[0.0028800000000000023,\n",
       " 0.00576,\n",
       " 8e-05,\n",
       " 0.0009600000000000006,\n",
       " 0.011520000000000013,\n",
       " 0.023040000000000005,\n",
       " 0.0019199999999999996,\n",
       " 0.023040000000000005]"
      ]
     },
     "execution_count": 23,
     "metadata": {},
     "output_type": "execute_result"
    }
   ],
   "source": [
    "k"
   ]
  },
  {
   "cell_type": "code",
   "execution_count": null,
   "metadata": {},
   "outputs": [],
   "source": []
  }
 ],
 "metadata": {
  "kernelspec": {
   "display_name": "Python 3",
   "language": "python",
   "name": "python3"
  },
  "language_info": {
   "codemirror_mode": {
    "name": "ipython",
    "version": 3
   },
   "file_extension": ".py",
   "mimetype": "text/x-python",
   "name": "python",
   "nbconvert_exporter": "python",
   "pygments_lexer": "ipython3",
   "version": "3.8.5"
  }
 },
 "nbformat": 4,
 "nbformat_minor": 4
}
