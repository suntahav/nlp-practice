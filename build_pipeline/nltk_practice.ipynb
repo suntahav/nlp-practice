{
 "cells": [
  {
   "cell_type": "markdown",
   "metadata": {},
   "source": [
    "#### NLTK Tokenizer (sentence and word)"
   ]
  },
  {
   "cell_type": "code",
   "execution_count": 1,
   "metadata": {},
   "outputs": [],
   "source": [
    "import nltk\n",
    "from nltk.tokenize import word_tokenize, sent_tokenize\n",
    "nltk.data.path.append('../../../../Python Libs/')"
   ]
  },
  {
   "cell_type": "code",
   "execution_count": 2,
   "metadata": {},
   "outputs": [
    {
     "name": "stdout",
     "output_type": "stream",
     "text": [
      "As I was waiting, a man came out of a side room, and at a glance I was sure he must be Long John. His left leg was cut off close by the hip, and under the left shoulder he carried a crutch, which he managed with wonderful dexterity, hopping about upon it like a bird. He was very tall and strong, with a face as big as a ham—plain and pale, but intelligent and smiling. Indeed, he seemed in the most cheerful spirits, whistling as he moved about among the tables, with a merry word or a slap on the shoulder for the more favoured of his guests.\n"
     ]
    }
   ],
   "source": [
    "text = \"\"\n",
    "with open('data/input.txt', encoding='utf-8') as f:\n",
    "    text = f.read()\n",
    "\n",
    "print(text)"
   ]
  },
  {
   "cell_type": "code",
   "execution_count": 3,
   "metadata": {
    "scrolled": true
   },
   "outputs": [
    {
     "data": {
      "text/plain": [
       "['As',\n",
       " 'I',\n",
       " 'was',\n",
       " 'waiting',\n",
       " ',',\n",
       " 'a',\n",
       " 'man',\n",
       " 'came',\n",
       " 'out',\n",
       " 'of',\n",
       " 'a',\n",
       " 'side',\n",
       " 'room',\n",
       " ',',\n",
       " 'and',\n",
       " 'at',\n",
       " 'a',\n",
       " 'glance',\n",
       " 'I',\n",
       " 'was',\n",
       " 'sure',\n",
       " 'he',\n",
       " 'must',\n",
       " 'be',\n",
       " 'Long',\n",
       " 'John',\n",
       " '.',\n",
       " 'His',\n",
       " 'left',\n",
       " 'leg',\n",
       " 'was',\n",
       " 'cut',\n",
       " 'off',\n",
       " 'close',\n",
       " 'by',\n",
       " 'the',\n",
       " 'hip',\n",
       " ',',\n",
       " 'and',\n",
       " 'under',\n",
       " 'the',\n",
       " 'left',\n",
       " 'shoulder',\n",
       " 'he',\n",
       " 'carried',\n",
       " 'a',\n",
       " 'crutch',\n",
       " ',',\n",
       " 'which',\n",
       " 'he',\n",
       " 'managed',\n",
       " 'with',\n",
       " 'wonderful',\n",
       " 'dexterity',\n",
       " ',',\n",
       " 'hopping',\n",
       " 'about',\n",
       " 'upon',\n",
       " 'it',\n",
       " 'like',\n",
       " 'a',\n",
       " 'bird',\n",
       " '.',\n",
       " 'He',\n",
       " 'was',\n",
       " 'very',\n",
       " 'tall',\n",
       " 'and',\n",
       " 'strong',\n",
       " ',',\n",
       " 'with',\n",
       " 'a',\n",
       " 'face',\n",
       " 'as',\n",
       " 'big',\n",
       " 'as',\n",
       " 'a',\n",
       " 'ham—plain',\n",
       " 'and',\n",
       " 'pale',\n",
       " ',',\n",
       " 'but',\n",
       " 'intelligent',\n",
       " 'and',\n",
       " 'smiling',\n",
       " '.',\n",
       " 'Indeed',\n",
       " ',',\n",
       " 'he',\n",
       " 'seemed',\n",
       " 'in',\n",
       " 'the',\n",
       " 'most',\n",
       " 'cheerful',\n",
       " 'spirits',\n",
       " ',',\n",
       " 'whistling',\n",
       " 'as',\n",
       " 'he',\n",
       " 'moved',\n",
       " 'about',\n",
       " 'among',\n",
       " 'the',\n",
       " 'tables',\n",
       " ',',\n",
       " 'with',\n",
       " 'a',\n",
       " 'merry',\n",
       " 'word',\n",
       " 'or',\n",
       " 'a',\n",
       " 'slap',\n",
       " 'on',\n",
       " 'the',\n",
       " 'shoulder',\n",
       " 'for',\n",
       " 'the',\n",
       " 'more',\n",
       " 'favoured',\n",
       " 'of',\n",
       " 'his',\n",
       " 'guests',\n",
       " '.']"
      ]
     },
     "execution_count": 3,
     "metadata": {},
     "output_type": "execute_result"
    }
   ],
   "source": [
    "words = word_tokenize(text)\n",
    "words"
   ]
  },
  {
   "cell_type": "code",
   "execution_count": 4,
   "metadata": {},
   "outputs": [
    {
     "data": {
      "text/plain": [
       "['As I was waiting, a man came out of a side room, and at a glance I was sure he must be Long John.',\n",
       " 'His left leg was cut off close by the hip, and under the left shoulder he carried a crutch, which he managed with wonderful dexterity, hopping about upon it like a bird.',\n",
       " 'He was very tall and strong, with a face as big as a ham—plain and pale, but intelligent and smiling.',\n",
       " 'Indeed, he seemed in the most cheerful spirits, whistling as he moved about among the tables, with a merry word or a slap on the shoulder for the more favoured of his guests.']"
      ]
     },
     "execution_count": 4,
     "metadata": {},
     "output_type": "execute_result"
    }
   ],
   "source": [
    "sent_tokenize(text)"
   ]
  },
  {
   "cell_type": "markdown",
   "metadata": {},
   "source": [
    "#### Stopwords"
   ]
  },
  {
   "cell_type": "code",
   "execution_count": 5,
   "metadata": {},
   "outputs": [
    {
     "name": "stdout",
     "output_type": "stream",
     "text": [
      "['i', 'me', 'my', 'myself', 'we', 'our', 'ours', 'ourselves', 'you', \"you're\", \"you've\", \"you'll\", \"you'd\", 'your', 'yours', 'yourself', 'yourselves', 'he', 'him', 'his', 'himself', 'she', \"she's\", 'her', 'hers', 'herself', 'it', \"it's\", 'its', 'itself', 'they', 'them', 'their', 'theirs', 'themselves', 'what', 'which', 'who', 'whom', 'this', 'that', \"that'll\", 'these', 'those', 'am', 'is', 'are', 'was', 'were', 'be', 'been', 'being', 'have', 'has', 'had', 'having', 'do', 'does', 'did', 'doing', 'a', 'an', 'the', 'and', 'but', 'if', 'or', 'because', 'as', 'until', 'while', 'of', 'at', 'by', 'for', 'with', 'about', 'against', 'between', 'into', 'through', 'during', 'before', 'after', 'above', 'below', 'to', 'from', 'up', 'down', 'in', 'out', 'on', 'off', 'over', 'under', 'again', 'further', 'then', 'once', 'here', 'there', 'when', 'where', 'why', 'how', 'all', 'any', 'both', 'each', 'few', 'more', 'most', 'other', 'some', 'such', 'no', 'nor', 'not', 'only', 'own', 'same', 'so', 'than', 'too', 'very', 's', 't', 'can', 'will', 'just', 'don', \"don't\", 'should', \"should've\", 'now', 'd', 'll', 'm', 'o', 're', 've', 'y', 'ain', 'aren', \"aren't\", 'couldn', \"couldn't\", 'didn', \"didn't\", 'doesn', \"doesn't\", 'hadn', \"hadn't\", 'hasn', \"hasn't\", 'haven', \"haven't\", 'isn', \"isn't\", 'ma', 'mightn', \"mightn't\", 'mustn', \"mustn't\", 'needn', \"needn't\", 'shan', \"shan't\", 'shouldn', \"shouldn't\", 'wasn', \"wasn't\", 'weren', \"weren't\", 'won', \"won't\", 'wouldn', \"wouldn't\"]\n"
     ]
    }
   ],
   "source": [
    "from nltk.corpus import stopwords\n",
    "print(stopwords.words('english'))"
   ]
  },
  {
   "cell_type": "code",
   "execution_count": 6,
   "metadata": {},
   "outputs": [],
   "source": [
    "filtered_words = [w for w in words if w not in stopwords.words('english')]"
   ]
  },
  {
   "cell_type": "code",
   "execution_count": 7,
   "metadata": {
    "scrolled": true
   },
   "outputs": [
    {
     "data": {
      "text/plain": [
       "['As',\n",
       " 'I',\n",
       " 'waiting',\n",
       " ',',\n",
       " 'man',\n",
       " 'came',\n",
       " 'side',\n",
       " 'room',\n",
       " ',',\n",
       " 'glance',\n",
       " 'I',\n",
       " 'sure',\n",
       " 'must',\n",
       " 'Long',\n",
       " 'John',\n",
       " '.',\n",
       " 'His',\n",
       " 'left',\n",
       " 'leg',\n",
       " 'cut',\n",
       " 'close',\n",
       " 'hip',\n",
       " ',',\n",
       " 'left',\n",
       " 'shoulder',\n",
       " 'carried',\n",
       " 'crutch',\n",
       " ',',\n",
       " 'managed',\n",
       " 'wonderful',\n",
       " 'dexterity',\n",
       " ',',\n",
       " 'hopping',\n",
       " 'upon',\n",
       " 'like',\n",
       " 'bird',\n",
       " '.',\n",
       " 'He',\n",
       " 'tall',\n",
       " 'strong',\n",
       " ',',\n",
       " 'face',\n",
       " 'big',\n",
       " 'ham—plain',\n",
       " 'pale',\n",
       " ',',\n",
       " 'intelligent',\n",
       " 'smiling',\n",
       " '.',\n",
       " 'Indeed',\n",
       " ',',\n",
       " 'seemed',\n",
       " 'cheerful',\n",
       " 'spirits',\n",
       " ',',\n",
       " 'whistling',\n",
       " 'moved',\n",
       " 'among',\n",
       " 'tables',\n",
       " ',',\n",
       " 'merry',\n",
       " 'word',\n",
       " 'slap',\n",
       " 'shoulder',\n",
       " 'favoured',\n",
       " 'guests',\n",
       " '.']"
      ]
     },
     "execution_count": 7,
     "metadata": {},
     "output_type": "execute_result"
    }
   ],
   "source": [
    "filtered_words"
   ]
  },
  {
   "cell_type": "code",
   "execution_count": 8,
   "metadata": {},
   "outputs": [
    {
     "name": "stdout",
     "output_type": "stream",
     "text": [
      "123 67\n"
     ]
    }
   ],
   "source": [
    "print(len(words), len(filtered_words))"
   ]
  },
  {
   "cell_type": "markdown",
   "metadata": {},
   "source": [
    "#### Part of Speach tagging"
   ]
  },
  {
   "cell_type": "code",
   "execution_count": 9,
   "metadata": {},
   "outputs": [],
   "source": [
    "from nltk import pos_tag\n",
    "from IPython.display import display"
   ]
  },
  {
   "cell_type": "code",
   "execution_count": 10,
   "metadata": {},
   "outputs": [
    {
     "data": {
      "text/plain": [
       "'As I was waiting, a man came out of a side room, and at a glance I was sure he must be Long John.'"
      ]
     },
     "execution_count": 10,
     "metadata": {},
     "output_type": "execute_result"
    }
   ],
   "source": [
    "sentence = sent_tokenize(text)\n",
    "sentence[0]"
   ]
  },
  {
   "cell_type": "code",
   "execution_count": 11,
   "metadata": {},
   "outputs": [
    {
     "data": {
      "text/plain": [
       "[('As', 'IN'),\n",
       " ('I', 'PRP'),\n",
       " ('was', 'VBD'),\n",
       " ('waiting', 'VBG'),\n",
       " (',', ','),\n",
       " ('a', 'DT'),\n",
       " ('man', 'NN'),\n",
       " ('came', 'VBD'),\n",
       " ('out', 'IN'),\n",
       " ('of', 'IN'),\n",
       " ('a', 'DT'),\n",
       " ('side', 'NN'),\n",
       " ('room', 'NN'),\n",
       " (',', ','),\n",
       " ('and', 'CC'),\n",
       " ('at', 'IN'),\n",
       " ('a', 'DT'),\n",
       " ('glance', 'NN'),\n",
       " ('I', 'PRP'),\n",
       " ('was', 'VBD'),\n",
       " ('sure', 'JJ'),\n",
       " ('he', 'PRP'),\n",
       " ('must', 'MD'),\n",
       " ('be', 'VB'),\n",
       " ('Long', 'NNP'),\n",
       " ('John', 'NNP'),\n",
       " ('.', '.')]"
      ]
     },
     "execution_count": 11,
     "metadata": {},
     "output_type": "execute_result"
    }
   ],
   "source": [
    "pos_tag(word_tokenize(sentence[0]))"
   ]
  },
  {
   "cell_type": "code",
   "execution_count": 12,
   "metadata": {},
   "outputs": [
    {
     "name": "stdout",
     "output_type": "stream",
     "text": [
      "(S\n",
      "  (NP I)\n",
      "  (VP\n",
      "    (VP (V shot) (NP (Det an) (N elephant)))\n",
      "    (PP (P in) (NP (Det my) (N pajamas)))))\n",
      "(S\n",
      "  (NP I)\n",
      "  (VP\n",
      "    (V shot)\n",
      "    (NP (Det an) (N elephant) (PP (P in) (NP (Det my) (N pajamas))))))\n"
     ]
    }
   ],
   "source": [
    "#Parse trees\n",
    "my_grammar = nltk.CFG.fromstring(\"\"\"\n",
    "S -> NP VP\n",
    "PP -> P NP\n",
    "NP -> Det N | Det N PP | 'I'\n",
    "VP -> V NP | VP PP\n",
    "Det -> 'an' | 'my'\n",
    "N -> 'elephant' | 'pajamas'\n",
    "V -> 'shot'\n",
    "P -> 'in'\n",
    "\"\"\")\n",
    "parser = nltk.ChartParser(my_grammar)\n",
    "\n",
    "# Parse a sentence\n",
    "sentence = word_tokenize(\"I shot an elephant in my pajamas\")\n",
    "for tree in parser.parse(sentence):\n",
    "    print(tree)"
   ]
  },
  {
   "cell_type": "code",
   "execution_count": 14,
   "metadata": {},
   "outputs": [],
   "source": [
    "for tree in parser.parse(sentence):\n",
    "    tree.draw()"
   ]
  },
  {
   "cell_type": "code",
   "execution_count": null,
   "metadata": {},
   "outputs": [],
   "source": []
  }
 ],
 "metadata": {
  "kernelspec": {
   "display_name": "Python 3",
   "language": "python",
   "name": "python3"
  },
  "language_info": {
   "codemirror_mode": {
    "name": "ipython",
    "version": 3
   },
   "file_extension": ".py",
   "mimetype": "text/x-python",
   "name": "python",
   "nbconvert_exporter": "python",
   "pygments_lexer": "ipython3",
   "version": "3.8.5"
  }
 },
 "nbformat": 4,
 "nbformat_minor": 4
}
